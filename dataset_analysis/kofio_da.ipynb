{
 "cells": [
  {
   "cell_type": "code",
   "execution_count": 2,
   "metadata": {},
   "outputs": [],
   "source": [
    "import numpy as np\n",
    "import pandas as pd"
   ]
  },
  {
   "cell_type": "markdown",
   "metadata": {},
   "source": [
    "## Loading Dataset"
   ]
  },
  {
   "cell_type": "code",
   "execution_count": 6,
   "metadata": {},
   "outputs": [],
   "source": [
    "# loading the data\n",
    "df = pd.read_csv('../kofio_dataset/kofio_dataset.csv',sep='\\t')"
   ]
  },
  {
   "cell_type": "code",
   "execution_count": 86,
   "metadata": {},
   "outputs": [
    {
     "data": {
      "text/html": [
       "<div>\n",
       "<style scoped>\n",
       "    .dataframe tbody tr th:only-of-type {\n",
       "        vertical-align: middle;\n",
       "    }\n",
       "\n",
       "    .dataframe tbody tr th {\n",
       "        vertical-align: top;\n",
       "    }\n",
       "\n",
       "    .dataframe thead th {\n",
       "        text-align: right;\n",
       "    }\n",
       "</style>\n",
       "<table border=\"1\" class=\"dataframe\">\n",
       "  <thead>\n",
       "    <tr style=\"text-align: right;\">\n",
       "      <th></th>\n",
       "      <th>Item Name</th>\n",
       "      <th>Roastery</th>\n",
       "      <th>Roast Level</th>\n",
       "      <th>Region</th>\n",
       "      <th>Flavour Profile</th>\n",
       "      <th>Roast Type</th>\n",
       "      <th>Process</th>\n",
       "      <th>Variety</th>\n",
       "      <th>Brewing Method</th>\n",
       "      <th>Coffee Origin</th>\n",
       "      <th>Rating</th>\n",
       "      <th>Recommended</th>\n",
       "      <th>Price</th>\n",
       "    </tr>\n",
       "  </thead>\n",
       "  <tbody>\n",
       "    <tr>\n",
       "      <th>0</th>\n",
       "      <td>Ethiopia Jenny's BARREL COFFEE - maturing in w...</td>\n",
       "      <td>The naughty dog</td>\n",
       "      <td>Omni</td>\n",
       "      <td>Agaro - Jimma</td>\n",
       "      <td>Chocolate,Caramel,Forest fruit,Whiskey</td>\n",
       "      <td>Omni</td>\n",
       "      <td>Washed</td>\n",
       "      <td>74110,74112,Heirloom</td>\n",
       "      <td>Aeropress,Chemex,Clever dripper,French Press,H...</td>\n",
       "      <td>Ethiopia</td>\n",
       "      <td>4.5</td>\n",
       "      <td>96</td>\n",
       "      <td>14.99</td>\n",
       "    </tr>\n",
       "    <tr>\n",
       "      <th>1</th>\n",
       "      <td>Rwanda KIRAMBO</td>\n",
       "      <td>The naughty dog</td>\n",
       "      <td>Omni</td>\n",
       "      <td>Nyamasheke District</td>\n",
       "      <td>Milk chocolate,Blueberries,Mulled wine,Lemon m...</td>\n",
       "      <td>Omni</td>\n",
       "      <td>Natural</td>\n",
       "      <td>Red Bourbon</td>\n",
       "      <td>Aeropress,Chemex,Clever dripper,French Press,H...</td>\n",
       "      <td>Rwanda</td>\n",
       "      <td>4.4</td>\n",
       "      <td>100</td>\n",
       "      <td>11.99</td>\n",
       "    </tr>\n",
       "  </tbody>\n",
       "</table>\n",
       "</div>"
      ],
      "text/plain": [
       "                                           Item Name         Roastery  \\\n",
       "0  Ethiopia Jenny's BARREL COFFEE - maturing in w...  The naughty dog   \n",
       "1                                     Rwanda KIRAMBO  The naughty dog   \n",
       "\n",
       "  Roast Level               Region  \\\n",
       "0        Omni        Agaro - Jimma   \n",
       "1        Omni  Nyamasheke District   \n",
       "\n",
       "                                     Flavour Profile Roast Type  Process  \\\n",
       "0             Chocolate,Caramel,Forest fruit,Whiskey       Omni   Washed   \n",
       "1  Milk chocolate,Blueberries,Mulled wine,Lemon m...       Omni  Natural   \n",
       "\n",
       "                Variety                                     Brewing Method  \\\n",
       "0  74110,74112,Heirloom  Aeropress,Chemex,Clever dripper,French Press,H...   \n",
       "1           Red Bourbon  Aeropress,Chemex,Clever dripper,French Press,H...   \n",
       "\n",
       "  Coffee Origin  Rating  Recommended  Price  \n",
       "0      Ethiopia     4.5           96  14.99  \n",
       "1        Rwanda     4.4          100  11.99  "
      ]
     },
     "execution_count": 86,
     "metadata": {},
     "output_type": "execute_result"
    }
   ],
   "source": [
    "df.head(2)"
   ]
  },
  {
   "cell_type": "code",
   "execution_count": 4,
   "metadata": {},
   "outputs": [
    {
     "name": "stdout",
     "output_type": "stream",
     "text": [
      "Item Name          322\n",
      "Roastery           322\n",
      "Roast Level        283\n",
      "Region             309\n",
      "Flavour Profile    320\n",
      "Roast Type         283\n",
      "Process            301\n",
      "Variety            241\n",
      "Brewing Method     283\n",
      "Coffee Origin      320\n",
      "Rating             111\n",
      "Recommended        111\n",
      "Price              179\n",
      "dtype: int64\n",
      "\n",
      "Items without NULL value: 53\n"
     ]
    }
   ],
   "source": [
    "print(df.count())\n",
    "# count the number of non-empty values for each column\n",
    "print(\"\\nItems without NULL value:\",df.dropna().count()[0])\n",
    "# count the number of rows that have no empty values"
   ]
  },
  {
   "cell_type": "code",
   "execution_count": 16,
   "metadata": {},
   "outputs": [
    {
     "name": "stdout",
     "output_type": "stream",
     "text": [
      "111\n",
      "283\n",
      "111\n"
     ]
    }
   ],
   "source": [
    "selected_columns = [['Rating', 'Recommended', 'Price'], ['Roast Level', 'Brewing Method', 'Flavour Profile']]\n",
    "print(df[selected_columns[0]].count()[0])\n",
    "# count the number of rows that have non-empty values in selected columns \n",
    "print(df[selected_columns[1]].count()[0])\n",
    "print(df[selected_columns[0] + selected_columns[1]].count()[0])"
   ]
  },
  {
   "cell_type": "markdown",
   "metadata": {},
   "source": [
    "## Data Cleaning"
   ]
  },
  {
   "cell_type": "code",
   "execution_count": 8,
   "metadata": {},
   "outputs": [],
   "source": [
    "# Change the type of Price/Recommended to float/int\n",
    "df['Price'] = df['Price'].apply(lambda x: float(x.replace(',', '.')) if isinstance(x, str) else x)\n",
    "df['Recommended'] = df['Recommended'].apply(lambda x: int(x.replace('%', ''))if isinstance(x, str) else x)\n",
    "df['Roast Type'] = df['Roast Type'].replace('Omni (recommended for both Filter & Espresso Coffee)', 'Omni')\n"
   ]
  },
  {
   "cell_type": "code",
   "execution_count": 9,
   "metadata": {},
   "outputs": [
    {
     "name": "stdout",
     "output_type": "stream",
     "text": [
      "<class 'pandas.core.frame.DataFrame'>\n",
      "Int64Index: 72 entries, 0 to 214\n",
      "Data columns (total 13 columns):\n",
      " #   Column           Non-Null Count  Dtype  \n",
      "---  ------           --------------  -----  \n",
      " 0   Item Name        72 non-null     object \n",
      " 1   Roastery         72 non-null     object \n",
      " 2   Roast Level      64 non-null     object \n",
      " 3   Region           70 non-null     object \n",
      " 4   Flavour Profile  72 non-null     object \n",
      " 5   Roast Type       64 non-null     object \n",
      " 6   Process          62 non-null     object \n",
      " 7   Variety          66 non-null     object \n",
      " 8   Brewing Method   64 non-null     object \n",
      " 9   Coffee Origin    72 non-null     object \n",
      " 10  Rating           72 non-null     float64\n",
      " 11  Recommended      72 non-null     float64\n",
      " 12  Price            72 non-null     float64\n",
      "dtypes: float64(3), object(10)\n",
      "memory usage: 7.9+ KB\n"
     ]
    },
    {
     "data": {
      "text/html": [
       "<div>\n",
       "<style scoped>\n",
       "    .dataframe tbody tr th:only-of-type {\n",
       "        vertical-align: middle;\n",
       "    }\n",
       "\n",
       "    .dataframe tbody tr th {\n",
       "        vertical-align: top;\n",
       "    }\n",
       "\n",
       "    .dataframe thead th {\n",
       "        text-align: right;\n",
       "    }\n",
       "</style>\n",
       "<table border=\"1\" class=\"dataframe\">\n",
       "  <thead>\n",
       "    <tr style=\"text-align: right;\">\n",
       "      <th></th>\n",
       "      <th>Item Name</th>\n",
       "      <th>Roastery</th>\n",
       "      <th>Price</th>\n",
       "      <th>Rating</th>\n",
       "      <th>Recommended</th>\n",
       "    </tr>\n",
       "  </thead>\n",
       "  <tbody>\n",
       "    <tr>\n",
       "      <th>0</th>\n",
       "      <td>Ethiopia Jenny's BARREL COFFEE - maturing in w...</td>\n",
       "      <td>The naughty dog</td>\n",
       "      <td>14.99</td>\n",
       "      <td>4.5</td>\n",
       "      <td>96.0</td>\n",
       "    </tr>\n",
       "    <tr>\n",
       "      <th>1</th>\n",
       "      <td>Rwanda KIRAMBO</td>\n",
       "      <td>The naughty dog</td>\n",
       "      <td>11.99</td>\n",
       "      <td>4.4</td>\n",
       "      <td>100.0</td>\n",
       "    </tr>\n",
       "    <tr>\n",
       "      <th>3</th>\n",
       "      <td>Ethiopia Jenny's BARREL COFFEE - 1000g</td>\n",
       "      <td>The naughty dog</td>\n",
       "      <td>54.99</td>\n",
       "      <td>4.5</td>\n",
       "      <td>96.0</td>\n",
       "    </tr>\n",
       "    <tr>\n",
       "      <th>5</th>\n",
       "      <td>Ethiopia MALAWO - black honey</td>\n",
       "      <td>The naughty dog</td>\n",
       "      <td>12.99</td>\n",
       "      <td>5.0</td>\n",
       "      <td>100.0</td>\n",
       "    </tr>\n",
       "    <tr>\n",
       "      <th>6</th>\n",
       "      <td>Kenya NGANDU</td>\n",
       "      <td>The naughty dog</td>\n",
       "      <td>11.99</td>\n",
       "      <td>5.0</td>\n",
       "      <td>100.0</td>\n",
       "    </tr>\n",
       "  </tbody>\n",
       "</table>\n",
       "</div>"
      ],
      "text/plain": [
       "                                           Item Name         Roastery  Price  \\\n",
       "0  Ethiopia Jenny's BARREL COFFEE - maturing in w...  The naughty dog  14.99   \n",
       "1                                     Rwanda KIRAMBO  The naughty dog  11.99   \n",
       "3             Ethiopia Jenny's BARREL COFFEE - 1000g  The naughty dog  54.99   \n",
       "5                      Ethiopia MALAWO - black honey  The naughty dog  12.99   \n",
       "6                                       Kenya NGANDU  The naughty dog  11.99   \n",
       "\n",
       "   Rating  Recommended  \n",
       "0     4.5         96.0  \n",
       "1     4.4        100.0  \n",
       "3     4.5         96.0  \n",
       "5     5.0        100.0  \n",
       "6     5.0        100.0  "
      ]
     },
     "execution_count": 9,
     "metadata": {},
     "output_type": "execute_result"
    }
   ],
   "source": [
    "# Data with prices, ratings and recommended\n",
    "df_fig2 = df.copy()\n",
    "df_fig2.dropna(subset=['Price','Rating','Recommended'], inplace=True)\n",
    "df_fig2.info()\n",
    "df_fig2.loc[:,['Item Name', 'Roastery', 'Price', 'Rating', 'Recommended']].head(5)"
   ]
  },
  {
   "cell_type": "code",
   "execution_count": 10,
   "metadata": {},
   "outputs": [
    {
     "name": "stdout",
     "output_type": "stream",
     "text": [
      "<class 'pandas.core.frame.DataFrame'>\n",
      "Int64Index: 201 entries, 0 to 321\n",
      "Data columns (total 10 columns):\n",
      " #   Column           Non-Null Count  Dtype \n",
      "---  ------           --------------  ----- \n",
      " 0   Item Name        201 non-null    object\n",
      " 1   Roastery         201 non-null    object\n",
      " 2   Roast Level      201 non-null    object\n",
      " 3   Region           201 non-null    object\n",
      " 4   Flavour Profile  201 non-null    object\n",
      " 5   Roast Type       201 non-null    object\n",
      " 6   Process          201 non-null    object\n",
      " 7   Variety          201 non-null    object\n",
      " 8   Brewing Method   201 non-null    object\n",
      " 9   Coffee Origin    201 non-null    object\n",
      "dtypes: object(10)\n",
      "memory usage: 17.3+ KB\n"
     ]
    },
    {
     "data": {
      "text/html": [
       "<div>\n",
       "<style scoped>\n",
       "    .dataframe tbody tr th:only-of-type {\n",
       "        vertical-align: middle;\n",
       "    }\n",
       "\n",
       "    .dataframe tbody tr th {\n",
       "        vertical-align: top;\n",
       "    }\n",
       "\n",
       "    .dataframe thead th {\n",
       "        text-align: right;\n",
       "    }\n",
       "</style>\n",
       "<table border=\"1\" class=\"dataframe\">\n",
       "  <thead>\n",
       "    <tr style=\"text-align: right;\">\n",
       "      <th></th>\n",
       "      <th>Item Name</th>\n",
       "      <th>Roastery</th>\n",
       "      <th>Roast Level</th>\n",
       "      <th>Region</th>\n",
       "      <th>Flavour Profile</th>\n",
       "      <th>Roast Type</th>\n",
       "      <th>Process</th>\n",
       "      <th>Variety</th>\n",
       "      <th>Brewing Method</th>\n",
       "      <th>Coffee Origin</th>\n",
       "    </tr>\n",
       "  </thead>\n",
       "  <tbody>\n",
       "    <tr>\n",
       "      <th>0</th>\n",
       "      <td>Ethiopia Jenny's BARREL COFFEE - maturing in w...</td>\n",
       "      <td>The naughty dog</td>\n",
       "      <td>Omni</td>\n",
       "      <td>Agaro - Jimma</td>\n",
       "      <td>Chocolate,Caramel,Forest fruit,Whiskey</td>\n",
       "      <td>Omni</td>\n",
       "      <td>Washed</td>\n",
       "      <td>74110,74112,Heirloom</td>\n",
       "      <td>Aeropress,Chemex,Clever dripper,French Press,H...</td>\n",
       "      <td>Ethiopia</td>\n",
       "    </tr>\n",
       "    <tr>\n",
       "      <th>1</th>\n",
       "      <td>Rwanda KIRAMBO</td>\n",
       "      <td>The naughty dog</td>\n",
       "      <td>Omni</td>\n",
       "      <td>Nyamasheke District</td>\n",
       "      <td>Milk chocolate,Blueberries,Mulled wine,Lemon m...</td>\n",
       "      <td>Omni</td>\n",
       "      <td>Natural</td>\n",
       "      <td>Red Bourbon</td>\n",
       "      <td>Aeropress,Chemex,Clever dripper,French Press,H...</td>\n",
       "      <td>Rwanda</td>\n",
       "    </tr>\n",
       "    <tr>\n",
       "      <th>2</th>\n",
       "      <td>Ethiopia SUKE QUTO - washed 1000g</td>\n",
       "      <td>The naughty dog</td>\n",
       "      <td>Light to Medium Light</td>\n",
       "      <td>Guji</td>\n",
       "      <td>Bergamot,Peach ice tea,Black tea,Flowers</td>\n",
       "      <td>Filter</td>\n",
       "      <td>Washed</td>\n",
       "      <td>Heirloom</td>\n",
       "      <td>Aeropress,Chemex,Clever dripper,French Press,H...</td>\n",
       "      <td>Ethiopia</td>\n",
       "    </tr>\n",
       "    <tr>\n",
       "      <th>3</th>\n",
       "      <td>Ethiopia Jenny's BARREL COFFEE - 1000g</td>\n",
       "      <td>The naughty dog</td>\n",
       "      <td>Omni</td>\n",
       "      <td>Agaro - Jimma</td>\n",
       "      <td>Chocolate,Caramel,Forest fruit,Whiskey</td>\n",
       "      <td>Omni</td>\n",
       "      <td>Washed</td>\n",
       "      <td>74110,74112,Heirloom</td>\n",
       "      <td>Aeropress,Chemex,Clever dripper,French Press,H...</td>\n",
       "      <td>Ethiopia</td>\n",
       "    </tr>\n",
       "    <tr>\n",
       "      <th>4</th>\n",
       "      <td>Ethiopia GORAA</td>\n",
       "      <td>The naughty dog</td>\n",
       "      <td>Light to Medium Light</td>\n",
       "      <td>Guji</td>\n",
       "      <td>Peach tea,Květinový med,Milk chocolate</td>\n",
       "      <td>Filter</td>\n",
       "      <td>Natural</td>\n",
       "      <td>74110,74112,Heirloom</td>\n",
       "      <td>Aeropress,Chemex,Clever dripper,French Press,H...</td>\n",
       "      <td>Ethiopia</td>\n",
       "    </tr>\n",
       "  </tbody>\n",
       "</table>\n",
       "</div>"
      ],
      "text/plain": [
       "                                           Item Name         Roastery  \\\n",
       "0  Ethiopia Jenny's BARREL COFFEE - maturing in w...  The naughty dog   \n",
       "1                                     Rwanda KIRAMBO  The naughty dog   \n",
       "2                  Ethiopia SUKE QUTO - washed 1000g  The naughty dog   \n",
       "3             Ethiopia Jenny's BARREL COFFEE - 1000g  The naughty dog   \n",
       "4                                     Ethiopia GORAA  The naughty dog   \n",
       "\n",
       "             Roast Level               Region  \\\n",
       "0                   Omni        Agaro - Jimma   \n",
       "1                   Omni  Nyamasheke District   \n",
       "2  Light to Medium Light                 Guji   \n",
       "3                   Omni        Agaro - Jimma   \n",
       "4  Light to Medium Light                 Guji   \n",
       "\n",
       "                                     Flavour Profile Roast Type  Process  \\\n",
       "0             Chocolate,Caramel,Forest fruit,Whiskey       Omni   Washed   \n",
       "1  Milk chocolate,Blueberries,Mulled wine,Lemon m...       Omni  Natural   \n",
       "2           Bergamot,Peach ice tea,Black tea,Flowers     Filter   Washed   \n",
       "3             Chocolate,Caramel,Forest fruit,Whiskey       Omni   Washed   \n",
       "4             Peach tea,Květinový med,Milk chocolate     Filter  Natural   \n",
       "\n",
       "                Variety                                     Brewing Method  \\\n",
       "0  74110,74112,Heirloom  Aeropress,Chemex,Clever dripper,French Press,H...   \n",
       "1           Red Bourbon  Aeropress,Chemex,Clever dripper,French Press,H...   \n",
       "2              Heirloom  Aeropress,Chemex,Clever dripper,French Press,H...   \n",
       "3  74110,74112,Heirloom  Aeropress,Chemex,Clever dripper,French Press,H...   \n",
       "4  74110,74112,Heirloom  Aeropress,Chemex,Clever dripper,French Press,H...   \n",
       "\n",
       "  Coffee Origin  \n",
       "0      Ethiopia  \n",
       "1        Rwanda  \n",
       "2      Ethiopia  \n",
       "3      Ethiopia  \n",
       "4      Ethiopia  "
      ]
     },
     "execution_count": 10,
     "metadata": {},
     "output_type": "execute_result"
    }
   ],
   "source": [
    "df_fig3 = df.loc[:,['Item Name', 'Roastery', 'Roast Level',\t'Region', 'Flavour Profile', 'Roast Type', 'Process', 'Variety', 'Brewing Method', 'Coffee Origin']].copy()\n",
    "df_fig3 = df_fig3.dropna()\n",
    "df_fig3.info()\n",
    "df_fig3.head(5)"
   ]
  },
  {
   "cell_type": "markdown",
   "metadata": {},
   "source": [
    "## Save the cleaned data"
   ]
  },
  {
   "cell_type": "code",
   "execution_count": 11,
   "metadata": {},
   "outputs": [],
   "source": [
    "df_fig2.to_csv('../kofio_dataset/price_rating_rec_clean.csv',index=False)\n",
    "df_fig3.to_csv('../kofio_dataset/cluster_clean.csv',index=False)"
   ]
  },
  {
   "cell_type": "markdown",
   "metadata": {},
   "source": [
    "### For Figure 2"
   ]
  },
  {
   "cell_type": "code",
   "execution_count": 23,
   "metadata": {},
   "outputs": [
    {
     "data": {
      "image/png": "[encoded data removed]",
      "text/plain": [
       "<Figure size 576x432 with 1 Axes>"
      ]
     },
     "metadata": {
      "needs_background": "light"
     },
     "output_type": "display_data"
    }
   ],
   "source": [
    "import matplotlib.pyplot as plt\n",
    "import seaborn as sns\n",
    "\n",
    "plt.figure(figsize=(8, 6))\n",
    "sns.scatterplot(x='Price', y='Rating', data=df_fig2)\n",
    "plt.title('Scatter plot of Price vs. Rating')\n",
    "plt.show()"
   ]
  },
  {
   "cell_type": "code",
   "execution_count": 32,
   "metadata": {},
   "outputs": [
    {
     "data": {
      "image/png": "[encoded data removed]",
      "text/plain": [
       "<Figure size 576x432 with 1 Axes>"
      ]
     },
     "metadata": {
      "needs_background": "light"
     },
     "output_type": "display_data"
    }
   ],
   "source": [
    "plt.figure(figsize=(8, 6))\n",
    "sns.scatterplot(x='Price', y='Recommended', data=df_fig2)\n",
    "plt.title('Scatter plot of Price vs. Recommended')\n",
    "plt.ylabel('Recommended(%)')\n",
    "plt.show()"
   ]
  },
  {
   "cell_type": "code",
   "execution_count": 33,
   "metadata": {},
   "outputs": [
    {
     "data": {
      "image/png": "[encoded data removed]",
      "text/plain": [
       "<Figure size 576x432 with 1 Axes>"
      ]
     },
     "metadata": {
      "needs_background": "light"
     },
     "output_type": "display_data"
    }
   ],
   "source": [
    "plt.figure(figsize=(8, 6))\n",
    "sns.scatterplot(x='Rating', y='Recommended', data=df_fig2)\n",
    "plt.title('Scatter plot of Rating vs. Recommended')\n",
    "plt.ylabel('Recommended(%)')\n",
    "plt.show()"
   ]
  },
  {
   "cell_type": "code",
   "execution_count": 85,
   "metadata": {},
   "outputs": [
    {
     "name": "stdout",
     "output_type": "stream",
     "text": [
      "Roastery\n",
      "Doubleshot                   5.000000\n",
      "Main Lane Coffee Roasters    5.000000\n",
      "Dark Woods Coffee            4.800000\n",
      "Industra Coffee              4.750000\n",
      "Coffea Circulor              4.666667\n",
      "DAK Coffee Roasters          4.666667\n",
      "The naughty dog              4.640000\n",
      "BeBerry Coffee               4.600000\n",
      "Candycane Coffee             4.550000\n",
      "Fiftybeans                   4.550000\n",
      "Gardelli Coffee              4.540000\n",
      "The Barn                     4.500000\n",
      "Concept Coffee Roasters      4.400000\n",
      "Morgon Coffee Roasters       4.400000\n",
      "Dos Mundos                   4.225000\n",
      "HAYB Speciality Coffee       4.020000\n",
      "Nordbeans                    4.000000\n",
      "Good Beans                   3.933333\n",
      "Beansmith.s                  3.800000\n",
      "Father's Coffee Roastery     3.712500\n",
      "Square Mile                  3.166667\n",
      "Name: Rating, dtype: float64\n"
     ]
    },
    {
     "data": {
      "image/png": "[encoded data removed]",
      "text/plain": [
       "<Figure size 720x360 with 1 Axes>"
      ]
     },
     "metadata": {
      "needs_background": "light"
     },
     "output_type": "display_data"
    }
   ],
   "source": [
    "df_mean = df_fig2.groupby('Roastery')['Rating'].mean().sort_values(ascending=False)\n",
    "print(df_mean)\n",
    "\n",
    "plt.figure(figsize=(10, 5))\n",
    "plt.bar(df_mean.index, df_mean.values)\n",
    "\n",
    "plt.xlabel('Roastery')\n",
    "plt.ylabel('Average Rating')\n",
    "plt.ylim([3,5.5])\n",
    "plt.xticks(rotation=90)\n",
    "\n",
    "plt.show()"
   ]
  },
  {
   "cell_type": "markdown",
   "metadata": {},
   "source": [
    "### For Figure 3"
   ]
  },
  {
   "cell_type": "code",
   "execution_count": 13,
   "metadata": {},
   "outputs": [
    {
     "name": "stdout",
     "output_type": "stream",
     "text": [
      "There're 194 flavours\n"
     ]
    },
    {
     "data": {
      "text/plain": [
       "['Prosecco',\n",
       " 'Květinový med',\n",
       " 'Lime',\n",
       " 'Peach',\n",
       " 'Cherry jam',\n",
       " 'Sedmikráska',\n",
       " 'Walnuts',\n",
       " 'Lilac',\n",
       " 'Red fruits',\n",
       " 'Cinnamon',\n",
       " 'Chewing gums',\n",
       " 'Watermelon',\n",
       " 'Grapes',\n",
       " 'Citrus',\n",
       " 'Raisins',\n",
       " 'Stone fruit',\n",
       " 'Apple blossom',\n",
       " 'Lemon peel',\n",
       " 'Peach ice tea',\n",
       " 'Crème brûlée',\n",
       " 'Kakaové lupínky',\n",
       " 'Hazelnuts',\n",
       " 'Yellow plums',\n",
       " 'Passionflower',\n",
       " 'Coke',\n",
       " 'Lískooříškový krém',\n",
       " 'Pineapple',\n",
       " 'Dried fruit',\n",
       " 'Pecans',\n",
       " 'Cashew',\n",
       " 'Cheesecake',\n",
       " 'Pomegranate',\n",
       " 'Caramel',\n",
       " 'Plum jam',\n",
       " 'Marzipan',\n",
       " 'Blackberry',\n",
       " 'Růžové pomelo',\n",
       " 'Orange flower',\n",
       " 'Jasmine',\n",
       " 'Jahodové lízátko',\n",
       " 'Green apple',\n",
       " 'Lemonade',\n",
       " 'White peach',\n",
       " 'Elderberries',\n",
       " 'Red apple',\n",
       " 'Orange jam',\n",
       " 'Chocolate cake',\n",
       " 'Dark chocolate',\n",
       " 'Flower honey',\n",
       " 'Kumquat',\n",
       " 'Prunes',\n",
       " 'Carambola',\n",
       " 'Lemon tea',\n",
       " 'Vanilla',\n",
       " 'Moruška',\n",
       " 'Black currant',\n",
       " 'Syrup',\n",
       " 'Strawberries',\n",
       " 'Oolong',\n",
       " 'Hibiscus',\n",
       " 'Figs',\n",
       " 'Malt',\n",
       " 'Black tea',\n",
       " 'Mulberry',\n",
       " 'Peanut butter',\n",
       " 'Dark Bitter chocolate',\n",
       " 'Green tea',\n",
       " 'Pomelo',\n",
       " 'Christmas sweets',\n",
       " 'Red berry fruit',\n",
       " 'Guava',\n",
       " 'White tea',\n",
       " 'Baklava',\n",
       " 'Papaya',\n",
       " 'Banánový milkshake',\n",
       " 'Nugátu',\n",
       " 'Candied orange',\n",
       " 'Maple syrup',\n",
       " 'Hip',\n",
       " 'Dried cranberries',\n",
       " 'Almonds in sugar',\n",
       " 'Ice tea',\n",
       " 'Blueberries',\n",
       " 'Lemons',\n",
       " 'Švestkové víno',\n",
       " 'Sweet tobacco',\n",
       " 'Chocolate cookies',\n",
       " 'Pear',\n",
       " 'Cola',\n",
       " 'Wildflowers',\n",
       " 'Limetkový cheesecake',\n",
       " 'Chocolate bar with raisins',\n",
       " 'Cranberries',\n",
       " 'Raspberry jam',\n",
       " 'Rambutan',\n",
       " 'Sparkling wine',\n",
       " 'Ovesné sušenky',\n",
       " 'Raspberries',\n",
       " 'Tropical fruit',\n",
       " 'Earl Grey',\n",
       " 'Passion fruit',\n",
       " 'Lemon grass',\n",
       " 'Nectarines',\n",
       " 'Hluchavka',\n",
       " 'Cherries',\n",
       " 'Mléčná tyčinka MilkyWay',\n",
       " 'Elderflower',\n",
       " 'Yoghurt',\n",
       " 'Red wine',\n",
       " 'White peaches',\n",
       " 'Hazelnut butter',\n",
       " 'Orange',\n",
       " 'Ananasový řez',\n",
       " 'Marshmallow',\n",
       " 'Cherry compote',\n",
       " 'Nougat',\n",
       " 'Kiwi',\n",
       " 'Brown sugar',\n",
       " 'Dutch cocoa',\n",
       " 'Black cherries',\n",
       " 'Jam',\n",
       " 'Salted caramel',\n",
       " 'Rhubarb',\n",
       " 'Red orange',\n",
       " 'Tea',\n",
       " 'Gummy bears',\n",
       " 'Cocoa nibs',\n",
       " 'Redcurrant',\n",
       " 'Berry fruits',\n",
       " 'Dužinové ovoce',\n",
       " 'Baked apples',\n",
       " 'Mulled wine',\n",
       " 'Cherry tomatoes',\n",
       " 'Cream',\n",
       " 'Dried strawberries',\n",
       " 'Tutti Frutti',\n",
       " 'Lemon ice cream',\n",
       " 'Panela',\n",
       " 'White grapes',\n",
       " 'Blackberry jam',\n",
       " 'Milk chocolate',\n",
       " 'Apple',\n",
       " 'Cocoa',\n",
       " 'Griotka',\n",
       " 'Peach tea',\n",
       " 'Herbs',\n",
       " 'Orange peel',\n",
       " 'Fruit candies',\n",
       " 'Grapefruit',\n",
       " 'Citronáda',\n",
       " 'Forest strawberries',\n",
       " 'Black tea with lemon',\n",
       " 'Bonpary',\n",
       " 'White chocolate',\n",
       " 'Chocolate',\n",
       " 'Ripe fruit',\n",
       " 'Gingerbread',\n",
       " 'Mango',\n",
       " 'Berries',\n",
       " 'Tangerines',\n",
       " 'Ripe cherries',\n",
       " 'Lavender',\n",
       " 'Coconut',\n",
       " 'Tomatoes',\n",
       " 'Plums',\n",
       " 'Forest fruit',\n",
       " 'Sugarcane',\n",
       " 'Špendlík',\n",
       " 'Rum',\n",
       " 'Pineapple drink',\n",
       " 'Lemon marmalade',\n",
       " 'Roasted nuts',\n",
       " 'Nutmeg',\n",
       " 'Apricots',\n",
       " 'Almond',\n",
       " 'Candied fruit',\n",
       " 'Liqueur Grand Marnier',\n",
       " 'Currant',\n",
       " 'Cookies',\n",
       " 'Nuts',\n",
       " 'Eggnog',\n",
       " 'Whiskey',\n",
       " 'Yuzu',\n",
       " 'Honey',\n",
       " 'Gooseberry',\n",
       " 'Lychee',\n",
       " 'Demerara sugar',\n",
       " 'Bergamot',\n",
       " 'Cotton candy',\n",
       " 'Cherry pie',\n",
       " 'Banana',\n",
       " 'Flowers',\n",
       " 'Roses',\n",
       " 'Dried figs']"
      ]
     },
     "execution_count": 13,
     "metadata": {},
     "output_type": "execute_result"
    }
   ],
   "source": [
    "# Count the Flavour number\n",
    "flavour_lists=df_fig3['Flavour Profile'].str.split(',').tolist()\n",
    "flavours = list(set([flavour for flavour_list in flavour_lists for flavour in flavour_list]))\n",
    "print(f'There\\'re {len(flavours)} flavours')\n",
    "flavours"
   ]
  },
  {
   "cell_type": "code",
   "execution_count": 12,
   "metadata": {},
   "outputs": [
    {
     "name": "stdout",
     "output_type": "stream",
     "text": [
      "There're 8 brewing methods\n"
     ]
    },
    {
     "data": {
      "text/plain": [
       "['Aeropress',\n",
       " 'Espresso',\n",
       " 'French Press',\n",
       " 'Moka pot',\n",
       " 'Chemex',\n",
       " 'Vacuum Pot',\n",
       " 'Clever dripper',\n",
       " 'Hario V60']"
      ]
     },
     "execution_count": 12,
     "metadata": {},
     "output_type": "execute_result"
    }
   ],
   "source": [
    "brewing_lists=df_fig3['Brewing Method'].str.split(',').tolist()\n",
    "methods = list(set([brewing for brewing_list in brewing_lists for brewing in brewing_list]))\n",
    "print(f'There\\'re {len(methods)} brewing methods')\n",
    "methods"
   ]
  },
  {
   "cell_type": "code",
   "execution_count": 16,
   "metadata": {},
   "outputs": [
    {
     "name": "stdout",
     "output_type": "stream",
     "text": [
      "There're 3 Roast Levels\n"
     ]
    },
    {
     "data": {
      "text/plain": [
       "['Omni', 'Medium to medium dark', 'Light to Medium Light']"
      ]
     },
     "execution_count": 16,
     "metadata": {},
     "output_type": "execute_result"
    }
   ],
   "source": [
    "level_lists=df_fig3['Roast Level'].str.split(',').tolist()\n",
    "levels = list(set([level for level_list in level_lists for level in level_list]))\n",
    "print(f'There\\'re {len(levels)} Roast Levels')\n",
    "levels"
   ]
  },
  {
   "cell_type": "code",
   "execution_count": 15,
   "metadata": {},
   "outputs": [
    {
     "name": "stdout",
     "output_type": "stream",
     "text": [
      "There're 3 Roast Types\n"
     ]
    },
    {
     "data": {
      "text/plain": [
       "['Omni', 'Filter', 'Espresso']"
      ]
     },
     "execution_count": 15,
     "metadata": {},
     "output_type": "execute_result"
    }
   ],
   "source": [
    "type_lists=df_fig3['Roast Type'].str.split(',').tolist()\n",
    "types = list(set([type_ for type_list in type_lists for type_ in type_list]))\n",
    "print(f'There\\'re {len(types)} Roast Types')\n",
    "types"
   ]
  }
 ],
 "metadata": {
  "kernelspec": {
   "display_name": "Python 3.8.9 64-bit",
   "language": "python",
   "name": "python3"
  },
  "language_info": {
   "codemirror_mode": {
    "name": "ipython",
    "version": 3
   },
   "file_extension": ".py",
   "mimetype": "text/x-python",
   "name": "python",
   "nbconvert_exporter": "python",
   "pygments_lexer": "ipython3",
   "version": "3.8.9"
  },
  "orig_nbformat": 4,
  "vscode": {
   "interpreter": {
    "hash": "31f2aee4e71d21fbe5cf8b01ff0e069b9275f58929596ceb00d14d90e3e16cd6"
   }
  }
 },
 "nbformat": 4,
 "nbformat_minor": 2
}
