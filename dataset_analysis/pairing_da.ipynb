{
 "cells": [
  {
   "cell_type": "code",
   "execution_count": 1,
   "metadata": {},
   "outputs": [],
   "source": [
    "import pandas as pd\n",
    "import matplotlib.pyplot as plt\n",
    "import seaborn as sns\n",
    "df = pd.read_csv('../dataset/kofio_dataset/coffee_food_pairing.csv')"
   ]
  },
  {
   "cell_type": "code",
   "execution_count": 22,
   "metadata": {},
   "outputs": [
    {
     "name": "stdout",
     "output_type": "stream",
     "text": [
      "<class 'pandas.core.frame.DataFrame'>\n",
      "RangeIndex: 83 entries, 0 to 82\n",
      "Data columns (total 3 columns):\n",
      " #   Column         Non-Null Count  Dtype \n",
      "---  ------         --------------  ----- \n",
      " 0   Coffee origin  83 non-null     object\n",
      " 1   Food           83 non-null     object\n",
      " 2   Flavor type    83 non-null     object\n",
      "dtypes: object(3)\n",
      "memory usage: 2.1+ KB\n"
     ]
    }
   ],
   "source": [
    "df.info()"
   ]
  },
  {
   "cell_type": "code",
   "execution_count": 23,
   "metadata": {},
   "outputs": [
    {
     "name": "stdout",
     "output_type": "stream",
     "text": [
      "Total number of origins: 25\n",
      "Total number of foods: 23\n",
      "Total number of flavor types: 8\n"
     ]
    }
   ],
   "source": [
    "n_origins = df['Coffee origin'].nunique()\n",
    "n_foods = df['Food'].nunique()\n",
    "n_flavors = df['Flavor type'].nunique()\n",
    "\n",
    "print(f\"Total number of origins: {n_origins}\")\n",
    "print(f\"Total number of foods: {n_foods}\")\n",
    "print(f\"Total number of flavor types: {n_flavors}\")"
   ]
  },
  {
   "cell_type": "code",
   "execution_count": 24,
   "metadata": {},
   "outputs": [
    {
     "name": "stdout",
     "output_type": "stream",
     "text": [
      "Arabica: chocolate mousse, doughuts\n",
      "chocolate, sweet\n",
      "\n",
      "Brazil: Fruit Tart, chocolate, dark  chocolate, wheat bread, doughuts\n",
      "fruity, chocolate, neutral, sweet\n",
      "\n",
      "Columbia: chocolate, milk chocolate, white chocolate, wheat bread, sweet bread, doughuts, chocolate crepes\n",
      "chocolate, neutral, sweet\n",
      "\n",
      "Costa Rica: Fruit Tart, white chocolate, wheat bread, sweet bread, spicy food, doughuts, American-Style Savory Breakfast\n",
      "fruity, chocolate, neutral, sweet, spicy, savory\n",
      "\n",
      "El Salvador: chocolate, doughuts\n",
      "chocolate, sweet\n",
      "\n",
      "Ethiopia: Most Berries, milk chocolate, doughuts\n",
      "fruity, chocolate, sweet\n",
      "\n",
      "Guatemala: chocolate, chocolate cakes, wheat bread, caramel-based cakes, doughuts\n",
      "chocolate, neutral, sweet\n",
      "\n",
      "Haiti: Peaches, Plums,Apricots, fruit scones, doughuts, fruity crepes\n",
      "fruity, sweet\n",
      "\n",
      "Honduras: spicy food, doughuts\n",
      "spicy, sweet\n",
      "\n",
      "India: cheese,butter,cream, meat, doughuts\n",
      "dairy, meat, sweet\n",
      "\n",
      "Indonesia: caramel-based cakes, doughuts, Omelets\n",
      "sweet, savory\n",
      "\n",
      "Jamaica: Bueberries, doughuts\n",
      "fruity, sweet\n",
      "\n",
      "Java: cheese,butter,cream, doughuts, Omelets\n",
      "dairy, sweet, savory\n",
      "\n",
      "Kenya: Most Berries, milk chocolate, sweet bread, doughuts, fruity crepes\n",
      "fruity, chocolate, sweet\n",
      "\n",
      "Kona: chocolate, milk chocolate, sweet bread, cheese,butter,cream, doughuts\n",
      "chocolate, sweet, dairy\n",
      "\n",
      "Mexico: chocolate\n",
      "chocolate\n",
      "\n",
      "Nicaragua: spicy food, doughuts\n",
      "spicy, sweet\n",
      "\n",
      "Pacific Island: Savory Crepes, doughuts\n",
      "savory, sweet\n",
      "\n",
      "Papua New Guinea: cheese,butter,cream, meat, doughuts\n",
      "dairy, meat, sweet\n",
      "\n",
      "Peru: wheat bread, doughuts\n",
      "neutral, sweet\n",
      "\n",
      "Sumatra: milk chocolate, cheese,butter,cream, meat, doughuts, Omelets\n",
      "chocolate, dairy, meat, sweet, savory\n",
      "\n",
      "Tanzania: Peaches, Plums,Apricots, doughuts\n",
      "fruity, sweet\n",
      "\n",
      "Uganda: Most Berries, doughuts\n",
      "fruity, sweet\n",
      "\n",
      "Yemen: Bueberries, milk chocolate, white chocolate, fruit scones, doughuts\n",
      "fruity, chocolate, sweet\n",
      "\n",
      "kenya: fruit scones\n",
      "fruity\n",
      "\n",
      "chocolate: Brazil, Columbia, El Salvador, Guatemala, Kona, Mexico, Kenya, Sumatra, Yemen, Ethiopia, Costa Rica, Arabica\n",
      "\n",
      "chocolate, dark  chocolate, milk chocolate, white chocolate, chocolate cakes, chocolate mousse, chocolate crepes\n",
      "\n",
      "dairy: Sumatra, Java, India, Kona, Papua New Guinea\n",
      "\n",
      "cheese,butter,cream\n",
      "\n",
      "fruity: Kenya, Ethiopia, Uganda, Yemen, Jamaica, Tanzania, Haiti, Brazil, Costa Rica, kenya\n",
      "\n",
      "Most Berries, Bueberries, Peaches, Plums,Apricots, Fruit Tart, fruit scones, fruity crepes\n",
      "\n",
      "meat: Sumatra, Papua New Guinea, India\n",
      "\n",
      "meat\n",
      "\n",
      "neutral: Guatemala, Brazil, Costa Rica, Peru, Columbia\n",
      "\n",
      "wheat bread\n",
      "\n",
      "savory: Pacific Island, Costa Rica, Java, Sumatra, Indonesia\n",
      "\n",
      "Savory Crepes, American-Style Savory Breakfast, Omelets\n",
      "\n",
      "spicy: Nicaragua, Costa Rica, Honduras\n",
      "\n",
      "spicy food\n",
      "\n",
      "sweet: Columbia, Costa Rica, Kenya, Kona, Indonesia, Guatemala, Ethiopia, Uganda, Yemen, Jamaica, Tanzania, Haiti, Brazil, El Salvador, Arabica, Peru, Nicaragua, Honduras, Pacific Island, India, Papua New Guinea, Sumatra, Java\n",
      "\n",
      "sweet bread, caramel-based cakes, doughuts\n",
      "\n"
     ]
    }
   ],
   "source": [
    "grouped = df.groupby('Coffee origin')\n",
    "# Group by “Coffee origin” and display the unique food and flavor type\n",
    "food_grouped = df.groupby('Coffee origin')['Food'].unique()\n",
    "flavor_grouped = df.groupby('Coffee origin')['Flavor type'].unique()\n",
    "\n",
    "for origin, foods in food_grouped.items():\n",
    "    print(f\"{origin}: {', '.join(foods)}\")\n",
    "    print(f\"{', '.join(flavor_grouped[origin])}\\n\")\n",
    "\n",
    "# Group by \"Flavor type\" and display the unique origin and food\n",
    "origin_grouped = df.groupby('Flavor type')['Coffee origin'].unique()\n",
    "food_grouped = df.groupby('Flavor type')['Food'].unique()\n",
    "\n",
    "for flavor, origins in origin_grouped.items():\n",
    "    print(f\"{flavor}: {', '.join(origins)}\\n\")\n",
    "    print(f\"{', '.join(food_grouped[flavor])}\\n\")\n"
   ]
  },
  {
   "cell_type": "code",
   "execution_count": 4,
   "metadata": {},
   "outputs": [
    {
     "data": {
      "text/plain": [
       "0         Ethiopia\n",
       "1           Rwanda\n",
       "2         Ethiopia\n",
       "3         Ethiopia\n",
       "4         Ethiopia\n",
       "          ...     \n",
       "317    El Salvador\n",
       "318       Ethiopia\n",
       "319       Honduras\n",
       "320       Honduras\n",
       "321       Honduras\n",
       "Name: Coffee Origin, Length: 322, dtype: object"
      ]
     },
     "execution_count": 4,
     "metadata": {},
     "output_type": "execute_result"
    }
   ],
   "source": [
    "df_kofio = pd.read_csv('../dataset/kofio_dataset/kofio_dataset.csv',sep='\\t')\n",
    "df_kofio['Coffee Origin']"
   ]
  },
  {
   "cell_type": "code",
   "execution_count": 5,
   "metadata": {},
   "outputs": [
    {
     "name": "stdout",
     "output_type": "stream",
     "text": [
      "['Ethiopia', 'Rwanda', 'Kenya', 'Colombia', 'Brazil', 'Yemen', 'Nicaragua', 'El Salvador', 'Indonesia', 'Costa Rica', 'Peru', 'Bolivia', 'Mexico', 'Guatemala', 'Burundi', 'Honduras', 'China', 'Panama', 'Uganda', 'Ecuador', 'East Timor', 'DR Congo', 'Tanzania'] 23\n"
     ]
    }
   ],
   "source": [
    "coffee_origins = df_kofio[\"Coffee Origin\"].unique()\n",
    "unique_coffee_origins = []\n",
    "for country in coffee_origins:\n",
    "\n",
    "    if type(country) is not float:\n",
    "        country_set = country.split(\",\")\n",
    "        for c in country_set:\n",
    "            if c not in unique_coffee_origins:\n",
    "                unique_coffee_origins.append(c)\n",
    "\n",
    "print(unique_coffee_origins, len(unique_coffee_origins))"
   ]
  },
  {
   "cell_type": "code",
   "execution_count": 8,
   "metadata": {},
   "outputs": [
    {
     "data": {
      "text/plain": [
       "{'Brazil',\n",
       " 'Costa Rica',\n",
       " 'El Salvador',\n",
       " 'Ethiopia',\n",
       " 'Guatemala',\n",
       " 'Honduras',\n",
       " 'Indonesia',\n",
       " 'Kenya',\n",
       " 'Mexico',\n",
       " 'Nicaragua',\n",
       " 'Peru',\n",
       " 'Tanzania',\n",
       " 'Uganda',\n",
       " 'Yemen'}"
      ]
     },
     "execution_count": 8,
     "metadata": {},
     "output_type": "execute_result"
    }
   ],
   "source": [
    "origins = set(df['Coffee origin'].unique())\n",
    "coffee_origins = set(coffee_origins)\n",
    "origins.intersection(coffee_origins)\n"
   ]
  }
 ],
 "metadata": {
  "kernelspec": {
   "display_name": "Python 3.8.9 64-bit",
   "language": "python",
   "name": "python3"
  },
  "language_info": {
   "codemirror_mode": {
    "name": "ipython",
    "version": 3
   },
   "file_extension": ".py",
   "mimetype": "text/x-python",
   "name": "python",
   "nbconvert_exporter": "python",
   "pygments_lexer": "ipython3",
   "version": "3.8.9"
  },
  "orig_nbformat": 4,
  "vscode": {
   "interpreter": {
    "hash": "31f2aee4e71d21fbe5cf8b01ff0e069b9275f58929596ceb00d14d90e3e16cd6"
   }
  }
 },
 "nbformat": 4,
 "nbformat_minor": 2
}
