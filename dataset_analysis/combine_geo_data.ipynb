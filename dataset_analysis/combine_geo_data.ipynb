{
 "cells": [
  {
   "cell_type": "code",
   "execution_count": 1,
   "metadata": {},
   "outputs": [],
   "source": [
    "import geojson\n",
    "import pandas as pd\n",
    "import numpy as np\n",
    "import json"
   ]
  },
  {
   "cell_type": "code",
   "execution_count": 2,
   "metadata": {},
   "outputs": [],
   "source": [
    "with open('../dataset/coffee_dataset/countries.geo.json') as f:\n",
    "    gj = geojson.load(f)\n",
    "\n",
    "production = pd.read_csv('../dataset/coffee_dataset/Coffee_production_clean.csv')\n",
    "production_new = production[[\"Country\", \"1990/91\", \"1995/96\", \"2000/01\", \"2005/06\", \"2010/11\", \"2015/16\",\"2019/20\"]]\n",
    "years = [\"1990/91\", \"1995/96\", \"2000/01\", \"2005/06\", \"2010/11\", \"2015/16\",\"2019/20\"] \n",
    "all_countries = production_new[\"Country\"].tolist()"
   ]
  },
  {
   "cell_type": "code",
   "execution_count": 3,
   "metadata": {},
   "outputs": [
    {
     "data": {
      "text/plain": [
       "[]"
      ]
     },
     "execution_count": 3,
     "metadata": {},
     "output_type": "execute_result"
    }
   ],
   "source": [
    "for idx, line in enumerate(gj[\"features\"]):\n",
    "    country_row = production_new.loc[production_new['Country'] == line['properties']['name']]\n",
    "    country_index = country_row.index.tolist()[0] if country_row.index.tolist() else None\n",
    "    if country_index is not None:\n",
    "        for year in years:\n",
    "            gj[\"features\"][idx]['properties'][year] = production_new.loc[country_index][year]\n",
    "        all_countries.remove(production_new.loc[country_index][\"Country\"])\n",
    "all_countries\n",
    "         "
   ]
  },
  {
   "cell_type": "code",
   "execution_count": 4,
   "metadata": {},
   "outputs": [],
   "source": [
    "with open(\"countries_production.geo.json\",'w') as outfile:\n",
    "    json.dump(gj, outfile)"
   ]
  },
  {
   "cell_type": "code",
   "execution_count": null,
   "metadata": {},
   "outputs": [],
   "source": []
  }
 ],
 "metadata": {
  "kernelspec": {
   "display_name": "base",
   "language": "python",
   "name": "python3"
  },
  "language_info": {
   "codemirror_mode": {
    "name": "ipython",
    "version": 3
   },
   "file_extension": ".py",
   "mimetype": "text/x-python",
   "name": "python",
   "nbconvert_exporter": "python",
   "pygments_lexer": "ipython3",
   "version": "3.10.0"
  },
  "orig_nbformat": 4
 },
 "nbformat": 4,
 "nbformat_minor": 2
}
